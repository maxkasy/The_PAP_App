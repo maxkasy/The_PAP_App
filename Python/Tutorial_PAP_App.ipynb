{
 "cells": [
  {
   "cell_type": "markdown",
   "id": "6182d12b-bc14-4fd9-b946-cd5f8dd0c559",
   "metadata": {},
   "source": [
    "# How to use the PAP App\n",
    "\n",
    "Consider the following scenario:\n",
    "You are an empirical social scientist who is going to run a field experiment, in order to test some hypothesis.\n",
    "You want to **do the right thing**. This means that you will not p-hack your results, and you will pre-register your statistical analysis. This way, you will control size of your test under the null.\n",
    "At the same time you *would* like to **maximize the probability of rejecting your null hypothesis**. You believe there is an effect there, and you want to prove it to the world. What should you do? This tutorial will show how to use the PAP App to answer this question.\n",
    "For further details, please refer to our working paper [Optimal Pre-Analysis Plans: Statistical Decisions Subject to Implementability](https://maxkasy.github.io/home/files/papers/optimal_preanalysis_plans.pdf).\n",
    "\n",
    "The easiest way to use the app is to go to the interactive dashboard at [https://maxkasy.shinyapps.io/The_PAP_App/](https://maxkasy.shinyapps.io/The_PAP_App/).\n",
    "In this notebook, we will however instead use the Python script `PAP_App.py` to obtain the same results.\n",
    "This script can be downloaded from [https://github.com/maxkasy/The_PAP_App](https://github.com/maxkasy/The_PAP_App). \n",
    "The following loads the functions from the Python script, as well as the required packages (`numpy`, `pandas`, `scipy`, `itertools`, and `cvxpy`):"
   ]
  },
  {
   "cell_type": "code",
   "execution_count": 1,
   "id": "16505197-c753-4767-aa10-9720bd07c6da",
   "metadata": {},
   "outputs": [],
   "source": [
    "run PAP_App"
   ]
  },
  {
   "cell_type": "markdown",
   "id": "1a662ea7-4cc8-4037-9dbb-0f2ed79a5edd",
   "metadata": {},
   "source": [
    "Next we need to specify the parameters of our problem, which will then determine the optimal PAP. These parameters pin down (1) the null hypothesis to be tested, (2) prior beliefs over the true parameter, and (3) prior beliefs over the availability of specific tests or estimates for the data that you will obtain.\n",
    "\n",
    "In the app, we have implemented two leading scenarios.\n",
    "The first scenario involves \"data\" in the form of binary decisions $X_1,X_2,\\ldots$. \n",
    "Most commonly, these will correspond to the outcomes of component hypothesis tests. Our goal is then to implement a corresponding test of the joint null.\n",
    "The second scenario involves \"data\" in the form of normal point estimates (or t-statistics) $X_1,X_2,\\ldots$.\n",
    "Our goal is again to implement a joint test based on these point estimates."
   ]
  },
  {
   "cell_type": "markdown",
   "id": "5048b833-36b2-4489-a709-a093aea202f9",
   "metadata": {},
   "source": [
    "## Binary data "
   ]
  },
  {
   "cell_type": "markdown",
   "id": "06df35bf-81a7-4523-8754-c91b191d08f8",
   "metadata": {},
   "source": [
    "Suppose you plan to run an experiment at three different sites, for instance in three different villages. \n",
    "In the experiment you have a binary treatment, and a main outcome of interest.\n",
    "You will calculate a test for each village separately, reporting whether the treatment had a significant positive effect in this village. This gives three testing decisions $X_1$, $X_2$, and $X_3$.\n",
    "\n",
    "However, there is some chance that the experiment will not be implementable in a given village. That is, there is a chance that you will not be able to calculate $X_i$ for all of the $i$.\n",
    "Your prior probabilities for the experiments to be successfully implemented, for each of the villages, equal .9, .7, and .5, respectively. We collect these probabilities in the vector $\\eta_J$ (`etaJ` in the code below).\n",
    "\n",
    "Under the null of no effect, the probability of rejecting the null in each of the villages is given by $\\underline \\theta$ (`minp` below), where $\\underline \\theta = .05$.\n",
    "\n",
    "Lastly, we need to make assumptions about your prior distribution for the rejection probability $\\theta$ in each village. This will not turn out to matter in this example, but we shall assume a uniform prior for $\\theta$, which is the same thing as a Beta-prior with parameters $\\alpha = \\beta = 1$.\n",
    "These parameter specifications are collected in the following Python dictonary:"
   ]
  },
  {
   "cell_type": "code",
   "execution_count": 2,
   "id": "296694ee-d93a-483b-a22a-b552bf0a18e3",
   "metadata": {},
   "outputs": [],
   "source": [
    "input_binary = {\n",
    "    'etaJ': np.array([.9, .7, .5]),\n",
    "    'minp': .05,\n",
    "    'alpha': 1,\n",
    "    'beta': 1\n",
    "}"
   ]
  },
  {
   "cell_type": "markdown",
   "id": "070f413e-4068-4e85-9c2d-6a987b914d31",
   "metadata": {},
   "source": [
    "It turns out these parameters are all that we need to calculate the optimal PAP. The function `pap_binary_data` takes the dictonary `input_binary`, and uses it to calculate the relevant distributions of data availability and test realizations under the null, as well as averaged over the prior distributions:"
   ]
  },
  {
   "cell_type": "code",
   "execution_count": 3,
   "id": "f46dce27-8a60-4431-bfff-50b5e05fea0b",
   "metadata": {},
   "outputs": [],
   "source": [
    "test_args_binary = pap_binary_data(input_binary)"
   ]
  },
  {
   "cell_type": "markdown",
   "id": "de5bd2ea-ae12-4439-935d-104028b5be80",
   "metadata": {},
   "source": [
    "We can now calculate the optimal test, based on these distributions. This optimal test solves the linear programming problem described in our paper, maximizing expected power subject to size control and incentive compatibility. The Argument `size` refers to the desired size of the joint hypothesis test."
   ]
  },
  {
   "cell_type": "code",
   "execution_count": 4,
   "id": "cf3c84c9-1b1b-4e3a-ab98-5d9e30ebe194",
   "metadata": {},
   "outputs": [],
   "source": [
    "solution_binary = optimal_test(test_args_binary, size = .05)"
   ]
  },
  {
   "cell_type": "markdown",
   "id": "da9c32cd-a6a8-4649-8e3e-808c7dea87ac",
   "metadata": {},
   "source": [
    "Let us look at the optimal pre-analysis plan that we have calculated:"
   ]
  },
  {
   "cell_type": "code",
   "execution_count": 5,
   "id": "30f8a6bc-fe09-4200-a57f-4c68b6e38147",
   "metadata": {},
   "outputs": [
    {
     "data": {
      "text/html": [
       "<div>\n",
       "<style scoped>\n",
       "    .dataframe tbody tr th:only-of-type {\n",
       "        vertical-align: middle;\n",
       "    }\n",
       "\n",
       "    .dataframe tbody tr th {\n",
       "        vertical-align: top;\n",
       "    }\n",
       "\n",
       "    .dataframe thead th {\n",
       "        text-align: right;\n",
       "    }\n",
       "</style>\n",
       "<table border=\"1\" class=\"dataframe\">\n",
       "  <thead>\n",
       "    <tr style=\"text-align: right;\">\n",
       "      <th></th>\n",
       "      <th>X1</th>\n",
       "      <th>X2</th>\n",
       "      <th>X3</th>\n",
       "      <th>t</th>\n",
       "    </tr>\n",
       "  </thead>\n",
       "  <tbody>\n",
       "    <tr>\n",
       "      <th>4</th>\n",
       "      <td>1.0</td>\n",
       "      <td>0.0</td>\n",
       "      <td>0.0</td>\n",
       "      <td>0.947</td>\n",
       "    </tr>\n",
       "    <tr>\n",
       "      <th>3</th>\n",
       "      <td>0.0</td>\n",
       "      <td>1.0</td>\n",
       "      <td>1.0</td>\n",
       "      <td>1.000</td>\n",
       "    </tr>\n",
       "    <tr>\n",
       "      <th>5</th>\n",
       "      <td>1.0</td>\n",
       "      <td>0.0</td>\n",
       "      <td>1.0</td>\n",
       "      <td>1.000</td>\n",
       "    </tr>\n",
       "    <tr>\n",
       "      <th>6</th>\n",
       "      <td>1.0</td>\n",
       "      <td>1.0</td>\n",
       "      <td>0.0</td>\n",
       "      <td>1.000</td>\n",
       "    </tr>\n",
       "    <tr>\n",
       "      <th>7</th>\n",
       "      <td>1.0</td>\n",
       "      <td>1.0</td>\n",
       "      <td>1.0</td>\n",
       "      <td>1.000</td>\n",
       "    </tr>\n",
       "  </tbody>\n",
       "</table>\n",
       "</div>"
      ],
      "text/plain": [
       "    X1   X2   X3      t\n",
       "4  1.0  0.0  0.0  0.947\n",
       "3  0.0  1.0  1.0  1.000\n",
       "5  1.0  0.0  1.0  1.000\n",
       "6  1.0  1.0  0.0  1.000\n",
       "7  1.0  1.0  1.0  1.000"
      ]
     },
     "execution_count": 5,
     "metadata": {},
     "output_type": "execute_result"
    }
   ],
   "source": [
    "t_bin = solution_binary[\"t\"]\n",
    "t_bin[t_bin[\"t\"]>0].sort_values(by = [\"t\", \"X1\", \"X2\"])"
   ]
  },
  {
   "cell_type": "markdown",
   "id": "8c5565cc-b726-4027-8b03-2aec068b9767",
   "metadata": {},
   "source": [
    "To save this pre-analysis plan in a spreadsheet, run the following:"
   ]
  },
  {
   "cell_type": "code",
   "execution_count": 6,
   "id": "8abfcb1a-03da-4a50-b85a-294be359838b",
   "metadata": {},
   "outputs": [],
   "source": [
    "t_bin.to_csv(\"optimal_pap_binary.csv\", index=False)"
   ]
  },
  {
   "cell_type": "markdown",
   "id": "596cbe85-edc9-45e6-a164-38aceacc20c2",
   "metadata": {
    "jp-MarkdownHeadingCollapsed": true
   },
   "source": [
    "### How to interpret this PAP\n",
    "\n",
    "We now have a spreadsheet, as displayed in the table above, of rejection probabilities for different combinations of the $X$s. How do we use this spreadsheet?\n",
    "The key point to remember is that we need to make worst-case assumptions about any components which are not available in the data that we actually obtain, after pre-registering our PAP.\n",
    "For example, suppose you registered the above testing rule in a PAP, before seeing the data. \n",
    "Suppose further that, based on your data, you can calculate the test $X_1$, and the test $X_3$, but $X_2$ is not available for some reason. In this case we need to act as if $X_2$ equals 0.\n",
    "\n",
    "Suppose additionally that $X_1 = 1$ but $X_3 = 0$. Can we reject the null?\n",
    "Looking in the above table, we see that the row corresponding to $(1,0,0)$ has $t=1$, so we can indeed reject.\n",
    "Suppose alternatively that $X_1 = 0$ but $X_3 = 1$. Can we reject the null in this case?\n",
    "Looking in the above table, we see that the row corresponding to $(0,0,1)$ has $t=0$, so we cannot reject."
   ]
  },
  {
   "cell_type": "markdown",
   "id": "0094b5e6-4b2f-4bdd-b4b9-3b38e8d512c7",
   "metadata": {},
   "source": [
    "## Normal data "
   ]
  },
  {
   "cell_type": "markdown",
   "id": "d93f3d35-6e4e-4a25-8268-0ebb08254f43",
   "metadata": {},
   "source": [
    "The discussion above was based on binary data, motivated by the case where we calculate a joint testing decision based on multiple individual hypothesis tests.\n",
    "An alternative, which uses the data more efficiently, is to calculate a joint testing decision based on multiple individual point estimates.\n",
    "Motivated by standard asymptotic arguments, we assume that these point estimates are normally distributed.\n",
    "\n",
    "As before, `etaJ` refers to the probabilities that each of the components will be available.\n",
    "The parameters $\\mu_0$ and $\\Sigma_0$ (`mu0` and `Sigma0`) specify the mean vector and covariance matrix of $X$ under the null.\n",
    "The parameters $\\mu$ and $\\Sigma$ (`mu` and `Sigma`) specify the prior marginal distribution of $X$. In the present setting, this prior distribution is important for calculating the test with highest expected power."
   ]
  },
  {
   "cell_type": "code",
   "execution_count": 7,
   "id": "1541d9d0-e49b-44b1-828c-50c456e78e3b",
   "metadata": {},
   "outputs": [],
   "source": [
    "input_normal = {\n",
    "    'etaJ': np.array([.9, .5]),\n",
    "    'mu0': np.array([0, 0]),\n",
    "    'Sigma0': np.array([[1, 0], [0, 1]]),\n",
    "    'mu': np.array([1, 1]),\n",
    "    'Sigma': np.array([[2, 1], [1, 2]])\n",
    "}"
   ]
  },
  {
   "cell_type": "markdown",
   "id": "a2b11984-ac28-44d0-a593-61d43e008a24",
   "metadata": {},
   "source": [
    "The remainder of the calculation proceeds as before.\n",
    "To apply the proposed linear programming approach, we need to discretize the support of the vector $X$. This is done automatically by the function `pap_normal_data`."
   ]
  },
  {
   "cell_type": "code",
   "execution_count": 8,
   "id": "cac220f9-49de-4b1b-ae25-53260487eade",
   "metadata": {},
   "outputs": [],
   "source": [
    "test_args_normal = pap_normal_data(input_normal)\n",
    "\n",
    "solution_normal = optimal_test(test_args_normal, size = .05)"
   ]
  },
  {
   "cell_type": "code",
   "execution_count": 9,
   "id": "dc1fcb55-7ac0-4c24-bb9e-55046fb0eea0",
   "metadata": {},
   "outputs": [],
   "source": [
    "t_norm = solution_normal[\"t\"]\n",
    "# t_norm[t_norm[\"t\"]>0].sort_values(by = [\"t\", \"X1\", \"X2\"])\n",
    "t_norm.to_csv(\"optimal_pap_normal.csv\", index=False)"
   ]
  }
 ],
 "metadata": {
  "kernelspec": {
   "display_name": "Python 3 (ipykernel)",
   "language": "python",
   "name": "python3"
  },
  "language_info": {
   "codemirror_mode": {
    "name": "ipython",
    "version": 3
   },
   "file_extension": ".py",
   "mimetype": "text/x-python",
   "name": "python",
   "nbconvert_exporter": "python",
   "pygments_lexer": "ipython3",
   "version": "3.11.5"
  }
 },
 "nbformat": 4,
 "nbformat_minor": 5
}
